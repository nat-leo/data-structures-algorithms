{
 "cells": [
  {
   "cell_type": "code",
   "execution_count": null,
   "id": "54eafcb5",
   "metadata": {},
   "outputs": [
    {
     "name": "stdout",
     "output_type": "stream",
     "text": [
      "<class 'dict'>\n",
      "{'jo': 'mama', 'foo': 'bar', 1: 2}\n"
     ]
    }
   ],
   "source": [
    "\"\"\"\n",
    "Welcome to Hashmaps!\n",
    "\n",
    "This is part of Nat's notes on Data Structures and Algorithms, \n",
    "and why you should know them! Hashmaps and DS&A may seem a \n",
    "little boring. You could be doing literally anything else\n",
    "right now. But stick with it!\n",
    "\n",
    "Hashmaps are an incredible important data structure, and what \n",
    "we as developers should realize is that many tools and even \n",
    "companies out there are secretly data structures and/or \n",
    "algorithms in disguise!\n",
    "\"\"\"\n",
    "hashmap = {\n",
    "    \"jo\": \"mama\", \n",
    "    \"foo\": \"bar\", \n",
    "    1: 2\n",
    "}\n",
    "print(type(hashmap))\n",
    "print(hashmap)"
   ]
  },
  {
   "cell_type": "code",
   "execution_count": null,
   "id": "6dbab9b3",
   "metadata": {},
   "outputs": [],
   "source": [
    "\"\"\"\n",
    "Redis is a cache. It's blazingly fast. \n",
    "(Check out Redis)[https://redis.io]\n",
    "\n",
    "Wonder why?\n",
    "\n",
    "It's because it's a hash map. When you're in need of speed, you use Redis.\n",
    "If your'e using Redis, you're usinng a Hashmap. \n",
    "\n",
    "\"\"\"\n"
   ]
  },
  {
   "cell_type": "code",
   "execution_count": null,
   "id": "be36c63a",
   "metadata": {},
   "outputs": [],
   "source": [
    "\"\"\"\n",
    "Cloudflare is a recognized (Future Fortune 50)[https://finance.yahoo.com/news/cloudflare-named-fortune-future-50-140000298.html]\n",
    "It's CDN helps distribute the internet, so you can distrubute over the internet much much faster.\n",
    "\n",
    "It's edge nodes cache commonly viewed sites and content. This means the sites\n",
    "you got to, you get faster. These edge nodes use hashmaps, where the key is the URL,\n",
    "and the value is the content of the site. So instead of hopping all the way to the server,\n",
    "you can just go to the edge node, and get the content much faster.\n",
    "\"\"\"\n",
    "\n"
   ]
  },
  {
   "cell_type": "code",
   "execution_count": null,
   "id": "88ebc752",
   "metadata": {},
   "outputs": [],
   "source": [
    "\"\"\"\n",
    "Even if you opt out of the CDN, network hops to the right server STILL USE HASHHMAPS!\n",
    "\n",
    "DNS resolution, ARP tables, it's all hashmaps.\n",
    "\"\"\""
   ]
  },
  {
   "cell_type": "code",
   "execution_count": null,
   "id": "d7a9db9a",
   "metadata": {},
   "outputs": [],
   "source": [
    "\"\"\"\n",
    "Got massive amounts of data that you know can't fit in a hashmap?\n",
    "\n",
    "All distributed databases use hashmaps to shard data across multiple machines.\n",
    "This is called data partitioning, and it's a way to slice your data into \n",
    "smaller chunks where YOU KNOW you'll find the data (because you hashed it). \n",
    "Cassandra does this, DynamoDB does this, MongoDB does this. Literally all \n",
    "distributed databases do this.\n",
    "\"\"\""
   ]
  },
  {
   "cell_type": "code",
   "execution_count": null,
   "id": "1482a928",
   "metadata": {},
   "outputs": [],
   "source": [
    "\"\"\"\n",
    "But what does hashing it mean?\n",
    "\n",
    "Hashes have a few methods:\n",
    "INSERT \n",
    "    O(1) - O(n)\n",
    "DELETE\n",
    "    O(1) - O(n)\n",
    "SEARCH\n",
    "    O(1) - O(n)\n",
    "\"\"\"\n",
    "\n",
    "# This is a hash. So what?\n",
    "hash = {}"
   ]
  },
  {
   "cell_type": "code",
   "execution_count": null,
   "id": "ba47794d",
   "metadata": {},
   "outputs": [],
   "source": []
  },
  {
   "cell_type": "code",
   "execution_count": null,
   "id": "e8b4efa1",
   "metadata": {},
   "outputs": [],
   "source": [
    "\"\"\"\n",
    "Easy Interview Problems\n",
    "\"\"\""
   ]
  },
  {
   "cell_type": "code",
   "execution_count": 5,
   "id": "b524c6db",
   "metadata": {},
   "outputs": [
    {
     "name": "stdout",
     "output_type": "stream",
     "text": [
      "[0, 8]\n",
      "[3, 5]\n"
     ]
    }
   ],
   "source": [
    "\"\"\" Two Sum\n",
    "Given an array of integers nums and an integer target, return indices of the \n",
    "two numbers such that they add up to target.\n",
    "\n",
    "You may assume that each input would have exactly one solution, and you may \n",
    "not use the same element twice.\n",
    "\n",
    "You can return the answer in any order.\n",
    "\"\"\"\n",
    "array = [1, 2, 3, 4, 5, 6, 7, 8, 9, 10]\n",
    "target = 10\n",
    "\n",
    "def two_sum(array, target):\n",
    "    kv = {}\n",
    "    for i in range(len(array)):\n",
    "        kv[array[i]] = i\n",
    "    \n",
    "    indexes = []\n",
    "    for i in range(len(array)):\n",
    "        diff = target - array[i]\n",
    "        if diff in kv:\n",
    "            indexes = [i, kv[diff]]\n",
    "            break\n",
    "\n",
    "    return indexes\n",
    "\n",
    "def two_sum_one_loop(array, target):\n",
    "    kv = {}\n",
    "    for i, v in enumerate(array):\n",
    "        diff = target - v\n",
    "        if diff in kv:\n",
    "            return [kv[diff], i]\n",
    "        kv[v] = i\n",
    "    return []\n",
    "\n",
    "print(two_sum(array, target))\n",
    "print(two_sum_one_loop(array, target))\n",
    "\n",
    "# Three Sum\n",
    "# N sum"
   ]
  },
  {
   "cell_type": "code",
   "execution_count": null,
   "id": "63380fa9",
   "metadata": {},
   "outputs": [],
   "source": [
    "# Contains Duplicates"
   ]
  },
  {
   "cell_type": "code",
   "execution_count": null,
   "id": "70e1336b",
   "metadata": {},
   "outputs": [],
   "source": [
    "# Array Intersection"
   ]
  },
  {
   "cell_type": "code",
   "execution_count": null,
   "id": "c6ba149d",
   "metadata": {},
   "outputs": [],
   "source": [
    "\"\"\"\n",
    "Medium Interview Problems\n",
    "\"\"\""
   ]
  },
  {
   "cell_type": "code",
   "execution_count": null,
   "id": "2f5803ec",
   "metadata": {},
   "outputs": [],
   "source": [
    "# Subarray Equals K"
   ]
  },
  {
   "cell_type": "code",
   "execution_count": null,
   "id": "5a08178b",
   "metadata": {},
   "outputs": [],
   "source": [
    "# Most frequent elements"
   ]
  },
  {
   "cell_type": "code",
   "execution_count": null,
   "id": "2066fee5",
   "metadata": {},
   "outputs": [],
   "source": [
    "# Longest substring without repeating characters\n",
    "# Minimum Window Substring"
   ]
  },
  {
   "cell_type": "code",
   "execution_count": null,
   "id": "68dafdef",
   "metadata": {},
   "outputs": [],
   "source": [
    "# Permutation in String"
   ]
  },
  {
   "cell_type": "code",
   "execution_count": null,
   "id": "87102071",
   "metadata": {},
   "outputs": [],
   "source": [
    "# Group anagrams\n",
    "# Find all anagrams in a string"
   ]
  },
  {
   "cell_type": "code",
   "execution_count": null,
   "id": "ed80700e",
   "metadata": {},
   "outputs": [],
   "source": []
  }
 ],
 "metadata": {
  "kernelspec": {
   "display_name": ".venv (3.13.3)",
   "language": "python",
   "name": "python3"
  },
  "language_info": {
   "codemirror_mode": {
    "name": "ipython",
    "version": 3
   },
   "file_extension": ".py",
   "mimetype": "text/x-python",
   "name": "python",
   "nbconvert_exporter": "python",
   "pygments_lexer": "ipython3",
   "version": "3.13.3"
  }
 },
 "nbformat": 4,
 "nbformat_minor": 5
}
